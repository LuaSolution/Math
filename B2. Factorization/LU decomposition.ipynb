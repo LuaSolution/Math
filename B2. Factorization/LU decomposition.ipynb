{
 "metadata": {
  "language_info": {
   "codemirror_mode": {
    "name": "ipython",
    "version": 3
   },
   "file_extension": ".py",
   "mimetype": "text/x-python",
   "name": "python",
   "nbconvert_exporter": "python",
   "pygments_lexer": "ipython3",
   "version": "3.6.8-final"
  },
  "orig_nbformat": 2,
  "kernelspec": {
   "name": "python36864bitc1a78cfb4021408eb7094bf64ec9de12",
   "display_name": "Python 3.6.8 64-bit"
  }
 },
 "nbformat": 4,
 "nbformat_minor": 2,
 "cells": [
  {
   "cell_type": "code",
   "execution_count": 1,
   "metadata": {
    "tags": []
   },
   "outputs": [
    {
     "output_type": "stream",
     "name": "stdout",
     "text": "Ma trận A (5, 4) :\n [[ 2  1  8  2]\n [ 5  1  2  6]\n [ 9 11  7  2]\n [ 5  2  9  5]\n [ 3  3  5  1]]\nMa trận P_T (5, 5) :\n [[0. 0. 1. 0. 0.]\n [0. 1. 0. 0. 0.]\n [1. 0. 0. 0. 0.]\n [0. 0. 0. 0. 1.]\n [0. 0. 0. 1. 0.]]\nMa trận L (5, 4) :\n [[1.         0.         0.         0.        ]\n [0.55555556 1.         0.         0.        ]\n [0.22222222 0.2826087  1.         0.        ]\n [0.33333333 0.13043478 0.41744548 1.        ]\n [0.55555556 0.80434783 0.95015576 0.55371901]]\nMa trận U (4, 4) :\n [[ 9.         11.          7.          2.        ]\n [ 0.         -5.11111111 -1.88888889  4.88888889]\n [ 0.          0.          6.97826087  0.17391304]\n [ 0.          0.          0.         -0.37694704]]\nTái tạo ma trận A:\n [[ 2.  1.  8.  2.]\n [ 5.  1.  2.  6.]\n [ 9. 11.  7.  2.]\n [ 5.  2.  9.  5.]\n [ 3.  3.  5.  1.]]\n"
    }
   ],
   "source": [
    "\"\"\"=============================================================================\n",
    "    Ex1: DECOMPOSITION\n",
    "    Câu 1: LU Decomposition\n",
    "        a) Tạo ma trận A(4 x 5) chứa các giá trị ngẫu nhiên trong khoảng 1 - 10\n",
    "        b) Phân tích thành các thành phần P, L, U. In kết quả\n",
    "        c) Tái tạo lại ma trận A từ các thành phần P, L, U\n",
    "=============================================================================\"\"\"\n",
    "    \n",
    "import numpy  as np\n",
    "import random       \n",
    "from scipy.linalg import lu\n",
    "\n",
    "##------------------------------------------------------------------------------\n",
    "## Hàm tạo 1 ma trận A[mxn] với giá trị ngẫu nhiên thuộc [start, end]\n",
    "##------------------------------------------------------------------------------\n",
    "def create_matrix_random(m, n, start, end):\n",
    "    mtr = []\n",
    "    for i in range(m):\n",
    "        row = []\n",
    "        for j in range(n):\n",
    "            a = random.randint(start, end + 1)\n",
    "            \n",
    "            # Thêm giá trị vào dòng hiện hành \n",
    "            row.append(a)\n",
    "            \n",
    "        # Thêm dòng vào ma trận    \n",
    "        mtr.append(row)\n",
    "        \n",
    "    return np.array(mtr)\n",
    "##------------------------------------------------------------------------------\n",
    "\n",
    "## a) Tạo ma trận A(4 x 5) chứa các giá trị ngẫu nhiên trong khoảng 1 - 10\n",
    "## Ma trận HÌNH CHỮ NHẬT: A(m, n) = P_T(m, m).L(m, n).U(n, n)\n",
    "m, n, min, max = 5, 4, 1, 10\n",
    "A = create_matrix_random(m, n, min, max)\n",
    "print('Ma trận A', A.shape, ':\\n', A)\n",
    "\n",
    "## b) Phân tích thành các thành phần P, L, U. In kết quả\n",
    "P_T, L, U = lu(A)\n",
    "\n",
    "print('Ma trận P_T', P_T.shape, ':\\n', P_T)\n",
    "print('Ma trận L', L.shape, ':\\n', L)\n",
    "print('Ma trận U', U.shape, ':\\n', U)\n",
    "\n",
    "## c) Tái tạo lại ma trận B từ các thành phần P, L, U\n",
    "print('Tái tạo ma trận A:\\n', P_T.dot(L).dot(U))\n"
   ]
  },
  {
   "cell_type": "code",
   "execution_count": null,
   "metadata": {},
   "outputs": [],
   "source": []
  }
 ]
}