{
 "metadata": {
  "language_info": {
   "codemirror_mode": {
    "name": "ipython",
    "version": 3
   },
   "file_extension": ".py",
   "mimetype": "text/x-python",
   "name": "python",
   "nbconvert_exporter": "python",
   "pygments_lexer": "ipython3",
   "version": "3.6.8-final"
  },
  "orig_nbformat": 2,
  "kernelspec": {
   "name": "python36864bitc1a78cfb4021408eb7094bf64ec9de12",
   "display_name": "Python 3.6.8 64-bit"
  }
 },
 "nbformat": 4,
 "nbformat_minor": 2,
 "cells": [
  {
   "cell_type": "code",
   "execution_count": 1,
   "metadata": {
    "tags": []
   },
   "outputs": [
    {
     "output_type": "stream",
     "name": "stdout",
     "text": "Ma trận A (3, 3) :\n [[5 5 9]\n [5 7 9]\n [5 5 9]]\nMa trận L (3, 3) :\n [[ 2.23606798e+00  2.23606798e+00  2.23606798e+00]\n [ 0.00000000e+00  1.41421356e+00 -6.28036983e-16]\n [ 0.00000000e+00  0.00000000e+00  2.00000000e+00]]\nTái tạo ma trận A:\n [[ 1.50000000e+01  3.16227766e+00  4.47213595e+00]\n [ 3.16227766e+00  2.00000000e+00 -1.25607397e-15]\n [ 4.47213595e+00 -1.25607397e-15  4.00000000e+00]]\nMa trận L (3, 3) :\n [[ 2.82842712  1.41421356  2.82842712]\n [ 0.          2.44948974 -0.40824829]\n [ 0.          0.          1.3540064 ]]\nTái tạo ma trận A:\n [[18.          2.30940108  3.82970843]\n [ 2.30940108  6.16666667 -0.5527708 ]\n [ 3.82970843 -0.5527708   1.83333333]]\n"
    }
   ],
   "source": [
    "\"\"\"=============================================================================\n",
    "    Ex1: DECOMPOSITION\n",
    "    Câu 4: Cholesky Decomposition\n",
    "        a) Tạo ma trận A(3 x 3) chứa các giá trị ngẫu nhiên trong khoảng 3 - 9\n",
    "        b) Chuyển A thành ma trận vuông đối xứng theo tam giác dưới\n",
    "        c) Thực hiện phân rã Cholesky, nếu có thể\n",
    "=============================================================================\"\"\"\n",
    "\n",
    "import numpy  as np\n",
    "import random       \n",
    "from scipy.linalg import cholesky\n",
    "\n",
    "##------------------------------------------------------------------------------\n",
    "## Hàm tạo 1 ma trận A[mxn] với giá trị ngẫu nhiên thuộc [start, end]\n",
    "##------------------------------------------------------------------------------\n",
    "def create_matrix_random(m, n, start, end):\n",
    "    mtr = []\n",
    "    for i in range(m):\n",
    "        row = []\n",
    "        for j in range(n):\n",
    "            a = random.randint(start, end + 1)\n",
    "            \n",
    "            # Thêm giá trị vào dòng hiện hành \n",
    "            row.append(a)\n",
    "            \n",
    "        # Thêm dòng vào ma trận    \n",
    "        mtr.append(row)\n",
    "        \n",
    "    return np.array(mtr)\n",
    "##------------------------------------------------------------------------------\n",
    "\n",
    "## a) Tạo ma trận A(3 x 3) chứa các giá trị ngẫu nhiên trong khoảng 3 - 9\n",
    "m, n, min, max = 3, 3, 3, 9\n",
    "A = create_matrix_random(m, n, min, max)\n",
    "print('Ma trận A', A.shape, ':\\n', A)\n",
    "\n",
    "## b) Chuyển A thành ma trận vuông đối xứng theo tam giác dưới\n",
    "for i in range(A.shape[0]):\n",
    "    for j in range(i):\n",
    "        A[j][i] = A[i][j]\n",
    "\n",
    "## c) Thực hiện phân rã Cholesky, nếu có thể\n",
    "## Kiểm tra ma trận xác định dương\n",
    "test = np.linalg.eigvalsh(A)\n",
    "\n",
    "pos_def = np.all(test > 0)   \n",
    "if (pos_def == True):\n",
    "    L = cholesky(A)\n",
    "\n",
    "    print('Ma trận L', L.shape, ':\\n', L)\n",
    "\n",
    "    print('Tái tạo ma trận A:\\n', L.dot(L.T))\n",
    "else:\n",
    "    print('Không thỏa điều kiện xác định dương')\n",
    "    \n",
    "##------------------------------------------------------------------------------\n",
    "## Hàm tạo ma trận xác định dương    \n",
    "##------------------------------------------------------------------------------\n",
    "def create_matrix_positive_definite(m, n, start, end):\n",
    "    A       = None\n",
    "    pos_def = False\n",
    "    \n",
    "    while (pos_def == False):\n",
    "        A = create_matrix_random(m, n, start, end)\n",
    "        for i in range(A.shape[0]):\n",
    "            for j in range(i):\n",
    "                A[j][i] = A[i][j]\n",
    "        test    = np.linalg.eigvalsh(A)\n",
    "        pos_def = np.all(test > 0)\n",
    "    return A\n",
    "##------------------------------------------------------------------------------\n",
    "\n",
    "A = create_matrix_positive_definite(3, 3, 3, 9)\n",
    "L = cholesky(A)\n",
    "print('Ma trận L', L.shape, ':\\n', L)\n",
    "\n",
    "print('Tái tạo ma trận A:\\n', L.dot(L.T))\n"
   ]
  },
  {
   "cell_type": "code",
   "execution_count": null,
   "metadata": {},
   "outputs": [],
   "source": []
  }
 ]
}