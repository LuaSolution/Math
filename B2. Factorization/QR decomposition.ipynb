{
 "metadata": {
  "language_info": {
   "codemirror_mode": {
    "name": "ipython",
    "version": 3
   },
   "file_extension": ".py",
   "mimetype": "text/x-python",
   "name": "python",
   "nbconvert_exporter": "python",
   "pygments_lexer": "ipython3",
   "version": "3.6.8-final"
  },
  "orig_nbformat": 2,
  "kernelspec": {
   "name": "python36864bitc1a78cfb4021408eb7094bf64ec9de12",
   "display_name": "Python 3.6.8 64-bit"
  }
 },
 "nbformat": 4,
 "nbformat_minor": 2,
 "cells": [
  {
   "cell_type": "code",
   "execution_count": 1,
   "metadata": {
    "tags": []
   },
   "outputs": [
    {
     "output_type": "stream",
     "name": "stdout",
     "text": "Ma trận A (4, 4) :\n [[ 7  8  7  6]\n [ 9 10  5  5]\n [10 10 11 10]\n [11  8  8 10]]\nMa trận Q (4, 4) :\n [[-0.37363236 -0.41974794 -0.22630487 -0.79561086]\n [-0.48038446 -0.45011269  0.70553871  0.2623823 ]\n [-0.53376051 -0.15182372 -0.6522905   0.51630066]\n [-0.58713656  0.77340791  0.15974461 -0.17774285]]\nMa trận R (4, 4) :\n [[-18.734994   -17.82760112 -15.58580697 -15.85268723]\n [  0.          -3.19008435  -0.67159671   1.44679078]\n [  0.           0.          -3.95367917  -2.75559457]\n [  0.           0.           0.          -0.07617551]]\nTái tạo ma trận A:\n [[ 7.  8.  7.  6.]\n [ 9. 10.  5.  5.]\n [10. 10. 11. 10.]\n [11.  8.  8. 10.]]\n"
    }
   ],
   "source": [
    "\"\"\"=============================================================================\n",
    "    Ex1: DECOMPOSITION\n",
    "    Câu 3: QA Decomposition\n",
    "        a) Tạo ma trận A(4 x 4) chứa các giá trị ngẫu nhiên trong khoảng 5 - 10\n",
    "        b) Phân tích thành các thành phần Q và R. In kết quả\n",
    "        c) Tái tạo lại ma trận A từ các thành phần Q và R\n",
    "=============================================================================\"\"\"\n",
    "    \n",
    "import numpy  as np\n",
    "import random       \n",
    "from scipy.linalg import qr\n",
    "\n",
    "##------------------------------------------------------------------------------\n",
    "## Hàm tạo 1 ma trận A[mxn] với giá trị ngẫu nhiên thuộc [start, end]\n",
    "##------------------------------------------------------------------------------\n",
    "def create_matrix_random(m, n, start, end):\n",
    "    mtr = []\n",
    "    for i in range(m):\n",
    "        row = []\n",
    "        for j in range(n):\n",
    "            a = random.randint(start, end + 1)\n",
    "            \n",
    "            # Thêm giá trị vào dòng hiện hành \n",
    "            row.append(a)\n",
    "            \n",
    "        # Thêm dòng vào ma trận    \n",
    "        mtr.append(row)\n",
    "        \n",
    "    return np.array(mtr)\n",
    "##------------------------------------------------------------------------------\n",
    "\n",
    "## a) Tạo ma trận A(4 x 4) chứa các giá trị ngẫu nhiên trong khoảng 5 - 10\n",
    "m, n, min, max = 4, 4, 5, 10\n",
    "A = create_matrix_random(m, n, min, max)\n",
    "print('Ma trận A', A.shape, ':\\n', A)\n",
    "\n",
    "## b) Phân tích thành các thành phần Q và R. In kết quả\n",
    "Q, R = qr(A)\n",
    "\n",
    "print('Ma trận Q', Q.shape, ':\\n', Q)\n",
    "print('Ma trận R', R.shape, ':\\n', R)\n",
    "\n",
    "## c) Tái tạo lại ma trận A từ các thành phần Q và R\n",
    "print('Tái tạo ma trận A:\\n', Q.dot(R))\n"
   ]
  },
  {
   "cell_type": "code",
   "execution_count": null,
   "metadata": {},
   "outputs": [],
   "source": []
  }
 ]
}